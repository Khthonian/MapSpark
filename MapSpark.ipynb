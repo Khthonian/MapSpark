{
 "cells": [
  {
   "cell_type": "markdown",
   "id": "29f55a8c",
   "metadata": {},
   "source": [
    "# Big Data, PySpark, and MapReduce\n",
    "By Stewart Charles Fisher II - ID: 25020928\n",
    "\n",
    "Start Date: 22/11/2022\n",
    "\n",
    "End Date: 13/12/2022"
   ]
  },
  {
   "cell_type": "markdown",
   "id": "bcdb377b",
   "metadata": {},
   "source": [
    "## Table of Contents"
   ]
  },
  {
   "cell_type": "markdown",
   "id": "3c219aca",
   "metadata": {},
   "source": [
    "- [Import Libraries](#Import-Libraries)\n",
    "- [Task 1 - Analysis of Nuclear Plants Dataset](#Task-1---Analysis-of-Nuclear-Plants-Dataset)\n",
    "    - [Task 1.1 - Load the Data Into a PySpark DataFrame](#Task-1.1---Load-the-Data-Into-a-PySpark-DataFrame)\n",
    "    - [Task 1.2 - Display Summary Statistics for the Data](#Task-1.2---Display-Summary-Statistics-for-the-Data)\n",
    "        - [Normal Entry Metrics](#Calculate-the-minimum,-maximum,-mean,-and-median-for-the-'normal'-entries.)\n",
    "        - [Abnormal Entry Metrics](#Calculate-the-minimum,-maximum,-mean,-and-median-for-the-'abnormal'-entries.)\n",
    "        - [Normal Entry Boxplots](#Calculate-and-display-the-boxplots-for-the-'normal'-entries.)\n",
    "        - [Abnormal Entry Boxplots](#Calculate-and-display-the-boxplots-for-the-'abnormal'-entries.)\n",
    "    - [Task 1.3 - Display the Correlations in the Data](#Task-1.3---Display-the-Correlations-in-the-Data)\n",
    "        - [Correlation Matrix](#Display-the-correlation-matrix.)\n",
    "    - [Task 1.4 - Prepare the Data for Model Training](#Task-1.4---Prepare-the-Data-for-Model-Training)\n",
    "    - [Task 1.5 - Train the Classification Prediction Models](#Task-1.5---Train-the-Classification-Prediction-Models)\n",
    "        - [Decision Tree Model](#Train-a-decision-tree-using-the-training-set.)\n",
    "        - [Support Vector Machine Model](#Train-a-support-vector-machine-using-the-training-set.)\n",
    "        - [Artificial Neural Network](#Train-an-artificial-neural-network-using-the-training-set.)\n",
    "- [Task 2 - MapReduce for Margie Travel Dataset](#Task-2---MapReduce-for-Margie-Travel-Dataset)\n",
    "    - [Task 2.1 - Determine the Number of Flights From Each Airport](#Task-2.1---Determine-the-Number-of-Flights-From-Each-Airport)\n",
    "        - [Number of Flights per Airport](#Output-the-number-of-flights-from-each-airport.)\n",
    "        - [List of Unused Airports](#Get-a-list-of-the-airports-that-didn't-have-any-departures.)\n",
    "    - [Task 2.2 - Display a List of Flight Information](#Task-2.2---Display-a-List-of-Flight-Information)\n",
    "        - [List of Flight Information](#Create-a-list-of-all-the-relevant-flight-information.-Convert-the-departure-and-arrival-times-using-the-functions-that-were-created-to-do-so.)\n",
    "    - [Task 2.3 - Calculate the Flight Distances](#Task-2.3---Calculate-the-Flight-Distances)\n",
    "        - [Air Miles per Flight](#Output-the-amount-of-air-miles-per-flight-as-whole-miles,-in-descending-order.)\n",
    "        - [Air Miles per Passenger](#Output-the-amount-of-air-miles-per-passenger-as-whole-miles,-in-descending-order.)"
   ]
  },
  {
   "cell_type": "markdown",
   "id": "f14205dd",
   "metadata": {},
   "source": [
    "## Import Libraries"
   ]
  },
  {
   "cell_type": "code",
   "execution_count": 1,
   "id": "5acabb0d",
   "metadata": {},
   "outputs": [
    {
     "name": "stderr",
     "output_type": "stream",
     "text": [
      "WARNING:root:'PYARROW_IGNORE_TIMEZONE' environment variable was not set. It is required to set this environment variable to '1' in both driver and executor sides if you use pyarrow>=2.0.0. pandas-on-Spark will set it for you but it does not work if there is a Spark context already launched.\n"
     ]
    }
   ],
   "source": [
    "from datetime import datetime\n",
    "from pyspark.ml.classification import DecisionTreeClassifier\n",
    "from pyspark.ml.classification import LinearSVC\n",
    "from pyspark.ml.classification import MultilayerPerceptronClassifier\n",
    "from pyspark.ml.feature import StringIndexer\n",
    "from pyspark.ml.feature import VectorAssembler\n",
    "from pyspark.sql.functions import col, isnan, when, count\n",
    "from sklearn.metrics import confusion_matrix\n",
    "import math\n",
    "import matplotlib.pyplot as plot\n",
    "import pandas as pd\n",
    "import pyspark.pandas as ps\n",
    "import numpy as np\n",
    "import seaborn as sn"
   ]
  },
  {
   "cell_type": "markdown",
   "id": "7383ac00",
   "metadata": {},
   "source": [
    "## Task 1 - Analysis of Nuclear Plants Dataset"
   ]
  },
  {
   "cell_type": "markdown",
   "id": "efbcc2b4",
   "metadata": {},
   "source": [
    "### Task 1.1 - Load the Data Into a PySpark DataFrame"
   ]
  },
  {
   "cell_type": "markdown",
   "id": "38bf23f0",
   "metadata": {},
   "source": [
    "As a first step, you need to load the data from the file `nuclear_plants_small_dataset.csv’ into a Pyspark DataFrame. Before making any analysis, it is required to know if there are missing values in the data. Are there any missing values? Discuss how you will deal with missing values, even if there are no missing values in this data set."
   ]
  },
  {
   "cell_type": "markdown",
   "id": "76b97812",
   "metadata": {},
   "source": [
    "#### Import PySpark and initialise a SparkSession."
   ]
  },
  {
   "cell_type": "code",
   "execution_count": 2,
   "id": "bcb5e39c",
   "metadata": {},
   "outputs": [],
   "source": [
    "import findspark\n",
    "findspark.init()\n",
    "\n",
    "from pyspark.sql.functions import *\n",
    "from pyspark.sql import SparkSession\n",
    "spark = SparkSession.builder.getOrCreate()"
   ]
  },
  {
   "cell_type": "markdown",
   "id": "dc8e2108",
   "metadata": {},
   "source": [
    "#### Read in data from the Nuclear Plants dataset."
   ]
  },
  {
   "cell_type": "code",
   "execution_count": 3,
   "id": "367304aa",
   "metadata": {},
   "outputs": [],
   "source": [
    "# Load data\n",
    "nuclear = spark.read.csv(\"nuclear_plants_small_dataset.csv\",header=True,inferSchema=True)"
   ]
  },
  {
   "cell_type": "markdown",
   "id": "04616774",
   "metadata": {},
   "source": [
    "#### Check the inferred schema from pandas for the dataset."
   ]
  },
  {
   "cell_type": "code",
   "execution_count": 4,
   "id": "d3af163e",
   "metadata": {},
   "outputs": [
    {
     "name": "stdout",
     "output_type": "stream",
     "text": [
      "root\n",
      " |-- Status: string (nullable = true)\n",
      " |-- Power_range_sensor_1: double (nullable = true)\n",
      " |-- Power_range_sensor_2: double (nullable = true)\n",
      " |-- Power_range_sensor_3 : double (nullable = true)\n",
      " |-- Power_range_sensor_4: double (nullable = true)\n",
      " |-- Pressure _sensor_1: double (nullable = true)\n",
      " |-- Pressure _sensor_2: double (nullable = true)\n",
      " |-- Pressure _sensor_3: double (nullable = true)\n",
      " |-- Pressure _sensor_4: double (nullable = true)\n",
      " |-- Vibration_sensor_1: double (nullable = true)\n",
      " |-- Vibration_sensor_2: double (nullable = true)\n",
      " |-- Vibration_sensor_3: double (nullable = true)\n",
      " |-- Vibration_sensor_4: double (nullable = true)\n",
      "\n"
     ]
    }
   ],
   "source": [
    "# Print the schema\n",
    "nuclear.printSchema()"
   ]
  },
  {
   "cell_type": "markdown",
   "id": "368521e4",
   "metadata": {},
   "source": [
    "#### Edit column names to maintain ease of use."
   ]
  },
  {
   "cell_type": "markdown",
   "id": "72ccdf5d",
   "metadata": {},
   "source": [
    "##### In this case, I am targetting spaces that require standardisation."
   ]
  },
  {
   "cell_type": "code",
   "execution_count": 5,
   "id": "d26906c9",
   "metadata": {},
   "outputs": [],
   "source": [
    "nuclear1 = nuclear.withColumnRenamed('Power_range_sensor_3 ', 'Power_range_sensor_3').withColumnRenamed('Pressure _sensor_1', 'Pressure_sensor_1').withColumnRenamed('Pressure _sensor_2', 'Pressure_sensor_2').withColumnRenamed('Pressure _sensor_3', 'Pressure_sensor_3').withColumnRenamed('Pressure _sensor_4', 'Pressure_sensor_4')"
   ]
  },
  {
   "cell_type": "markdown",
   "id": "fa75d875",
   "metadata": {},
   "source": [
    "#### Show twenty entries of the dataset to check it has formatted correctly, using the sample transform to return a fraction of the dataset, and storing the sample in an output DataFrame."
   ]
  },
  {
   "cell_type": "code",
   "execution_count": 6,
   "id": "d7b00972",
   "metadata": {},
   "outputs": [
    {
     "name": "stdout",
     "output_type": "stream",
     "text": [
      "+--------+--------------------+--------------------+--------------------+--------------------+-----------------+-----------------+-----------------+-----------------+------------------+------------------+------------------+------------------+\n",
      "|  Status|Power_range_sensor_1|Power_range_sensor_2|Power_range_sensor_3|Power_range_sensor_4|Pressure_sensor_1|Pressure_sensor_2|Pressure_sensor_3|Pressure_sensor_4|Vibration_sensor_1|Vibration_sensor_2|Vibration_sensor_3|Vibration_sensor_4|\n",
      "+--------+--------------------+--------------------+--------------------+--------------------+-----------------+-----------------+-----------------+-----------------+------------------+------------------+------------------+------------------+\n",
      "|  Normal|              3.4671|              7.1667|             10.8298|              6.6486|           7.5676|           0.5098|           7.3705|           2.8472|           12.5734|            9.9609|           12.2318|            9.5547|\n",
      "|Abnormal|               0.563|              9.3887|              9.8035|              0.4953|            7.275|           1.1248|           8.8986|           1.3872|            3.5818|            1.5971|            16.266|           12.1118|\n",
      "|Abnormal|            1.687488|            2.854776|            4.879272|            2.214114|        21.664698|         0.223992|           5.7681|         1.959624|          4.171392|         34.331466|         29.001864|         16.176996|\n",
      "|Abnormal|            7.941312|            3.943626|            5.495658|           12.578844|        21.816372|         7.336248|          4.40385|         13.67157|           6.50658|         27.071616|          6.327672|         12.288144|\n",
      "|Abnormal|            2.910774|            5.673036|             9.19173|            2.307546|         1.244298|         2.915874|         6.364698|         0.154428|           5.59317|          3.549906|          0.903924|          0.903924|\n",
      "|Abnormal|            5.708532|            6.670392|           11.793444|            9.953772|        13.040292|         4.620804|         4.436898|         9.120228|          7.410504|         17.853162|          0.564978|          3.342744|\n",
      "+--------+--------------------+--------------------+--------------------+--------------------+-----------------+-----------------+-----------------+-----------------+------------------+------------------+------------------+------------------+\n",
      "\n"
     ]
    }
   ],
   "source": [
    "# Take a fraction of the dataset and output the sample\n",
    "nuclear2 = nuclear1.sample(0.01)\n",
    "nuclear2.show()"
   ]
  },
  {
   "cell_type": "markdown",
   "id": "fca3b59a",
   "metadata": {},
   "source": [
    "#### Check the number of records in the dataset and store the value in a python variable."
   ]
  },
  {
   "cell_type": "code",
   "execution_count": 7,
   "id": "a47a911b",
   "metadata": {},
   "outputs": [
    {
     "data": {
      "text/plain": [
       "996"
      ]
     },
     "execution_count": 7,
     "metadata": {},
     "output_type": "execute_result"
    }
   ],
   "source": [
    "# Store the total number of entries in the dataset and output the value\n",
    "totalNuclear = nuclear1.count()\n",
    "totalNuclear"
   ]
  },
  {
   "cell_type": "markdown",
   "id": "780c7221",
   "metadata": {},
   "source": [
    "#### Check for any missing values."
   ]
  },
  {
   "cell_type": "code",
   "execution_count": 8,
   "id": "a2ea74e4",
   "metadata": {},
   "outputs": [
    {
     "name": "stdout",
     "output_type": "stream",
     "text": [
      "+------+--------------------+--------------------+--------------------+--------------------+-----------------+-----------------+-----------------+-----------------+------------------+------------------+------------------+------------------+\n",
      "|Status|Power_range_sensor_1|Power_range_sensor_2|Power_range_sensor_3|Power_range_sensor_4|Pressure_sensor_1|Pressure_sensor_2|Pressure_sensor_3|Pressure_sensor_4|Vibration_sensor_1|Vibration_sensor_2|Vibration_sensor_3|Vibration_sensor_4|\n",
      "+------+--------------------+--------------------+--------------------+--------------------+-----------------+-----------------+-----------------+-----------------+------------------+------------------+------------------+------------------+\n",
      "|     0|                   0|                   0|                   0|                   0|                0|                0|                0|                0|                 0|                 0|                 0|                 0|\n",
      "+------+--------------------+--------------------+--------------------+--------------------+-----------------+-----------------+-----------------+-----------------+------------------+------------------+------------------+------------------+\n",
      "\n"
     ]
    }
   ],
   "source": [
    "## Count the number of missing values for each column\n",
    "nuclear1.select([count(when(isnan(c) | col(c).isNull(), c)).alias(c) for c in nuclear1.columns]).show()"
   ]
  },
  {
   "cell_type": "markdown",
   "id": "b232dcc9",
   "metadata": {},
   "source": [
    "#### Remove records with NULL values, checking for any new changes."
   ]
  },
  {
   "cell_type": "code",
   "execution_count": 9,
   "id": "73f694a2",
   "metadata": {},
   "outputs": [
    {
     "data": {
      "text/plain": [
       "996"
      ]
     },
     "execution_count": 9,
     "metadata": {},
     "output_type": "execute_result"
    }
   ],
   "source": [
    "nuclear3 = nuclear1.dropna()\n",
    "nuclear3.count()"
   ]
  },
  {
   "cell_type": "markdown",
   "id": "3dfe0443",
   "metadata": {},
   "source": [
    "#### Create a dictionary for the status column. Replace any incorrect classes according to the new dictionary."
   ]
  },
  {
   "cell_type": "code",
   "execution_count": 10,
   "id": "0ad81eeb",
   "metadata": {},
   "outputs": [],
   "source": [
    "mapDict = {\"normal\": \"Normal\",\n",
    "           \"abnormal\": \"Abnormal\"}\n",
    "nuclear3 = nuclear3.replace(to_replace = mapDict,\n",
    "                           subset = [\"Status\"])"
   ]
  },
  {
   "cell_type": "markdown",
   "id": "878aeb10",
   "metadata": {},
   "source": [
    "### Task 1.2 - Display Summary Statistics for the Data"
   ]
  },
  {
   "cell_type": "markdown",
   "id": "96e6ca3f",
   "metadata": {},
   "source": [
    "It is beneficial to understand the data by looking at the summary statistics. There are two groups of subjects (i.e., the normal group and the abnormal group) in this dataset. For each group, show the following summary statistics for each feature in a table: minimum, maximum, mean, and median values. For each group, plot the box plot for each feature."
   ]
  },
  {
   "cell_type": "markdown",
   "id": "2a0e9e1a",
   "metadata": {},
   "source": [
    "#### Convert the dataset to a pandas DataFrame."
   ]
  },
  {
   "cell_type": "code",
   "execution_count": 11,
   "id": "1854a9ed",
   "metadata": {},
   "outputs": [],
   "source": [
    "# Create a new pandas DataFrame that stores the contents of nuclear3\n",
    "nuclear4 = nuclear3.toPandas()"
   ]
  },
  {
   "cell_type": "markdown",
   "id": "a670bf48",
   "metadata": {},
   "source": [
    "#### Separate the dataset into 'normal' and 'abnormal' entries."
   ]
  },
  {
   "cell_type": "code",
   "execution_count": 12,
   "id": "f90a4bbb",
   "metadata": {},
   "outputs": [],
   "source": [
    "nuclearNormal = nuclear3.filter(col(\"Status\") == \"Normal\")\n",
    "nuclearNormalPan = nuclear4[nuclear4['Status'] == 'Normal']"
   ]
  },
  {
   "cell_type": "code",
   "execution_count": 13,
   "id": "62bc5728",
   "metadata": {},
   "outputs": [],
   "source": [
    "nuclearAbnormal = nuclear3.filter(col(\"Status\") == \"Abnormal\")\n",
    "nuclearAbnormalPan = nuclear4[nuclear4['Status'] == 'Abnormal']"
   ]
  },
  {
   "cell_type": "markdown",
   "id": "e115d094",
   "metadata": {},
   "source": [
    "#### Calculate the minimum, maximum, mean, and median for the 'normal' entries."
   ]
  },
  {
   "cell_type": "markdown",
   "id": "1d5137b1",
   "metadata": {},
   "source": [
    "##### Uncomment for a cleaner display of the table."
   ]
  },
  {
   "cell_type": "markdown",
   "id": "6776cc02",
   "metadata": {},
   "source": [
    "###### In the table, '50%' is the median."
   ]
  },
  {
   "cell_type": "code",
   "execution_count": 14,
   "id": "8f41c1a9",
   "metadata": {
    "scrolled": true
   },
   "outputs": [
    {
     "data": {
      "text/html": [
       "<div>\n",
       "<style scoped>\n",
       "    .dataframe tbody tr th:only-of-type {\n",
       "        vertical-align: middle;\n",
       "    }\n",
       "\n",
       "    .dataframe tbody tr th {\n",
       "        vertical-align: top;\n",
       "    }\n",
       "\n",
       "    .dataframe thead th {\n",
       "        text-align: right;\n",
       "    }\n",
       "</style>\n",
       "<table border=\"1\" class=\"dataframe\">\n",
       "  <thead>\n",
       "    <tr style=\"text-align: right;\">\n",
       "      <th></th>\n",
       "      <th>Power_range_sensor_1</th>\n",
       "      <th>Power_range_sensor_2</th>\n",
       "      <th>Power_range_sensor_3</th>\n",
       "      <th>Power_range_sensor_4</th>\n",
       "      <th>Pressure_sensor_1</th>\n",
       "      <th>Pressure_sensor_2</th>\n",
       "      <th>Pressure_sensor_3</th>\n",
       "      <th>Pressure_sensor_4</th>\n",
       "      <th>Vibration_sensor_1</th>\n",
       "      <th>Vibration_sensor_2</th>\n",
       "      <th>Vibration_sensor_3</th>\n",
       "      <th>Vibration_sensor_4</th>\n",
       "    </tr>\n",
       "  </thead>\n",
       "  <tbody>\n",
       "    <tr>\n",
       "      <th>min</th>\n",
       "      <td>0.085100</td>\n",
       "      <td>0.040300</td>\n",
       "      <td>4.382600</td>\n",
       "      <td>0.154700</td>\n",
       "      <td>0.024800</td>\n",
       "      <td>0.010400</td>\n",
       "      <td>0.077400</td>\n",
       "      <td>0.00580</td>\n",
       "      <td>0.009200</td>\n",
       "      <td>0.027700</td>\n",
       "      <td>0.064600</td>\n",
       "      <td>0.083100</td>\n",
       "    </tr>\n",
       "    <tr>\n",
       "      <th>max</th>\n",
       "      <td>12.129800</td>\n",
       "      <td>11.928400</td>\n",
       "      <td>14.098200</td>\n",
       "      <td>16.356800</td>\n",
       "      <td>56.856200</td>\n",
       "      <td>9.221200</td>\n",
       "      <td>12.647500</td>\n",
       "      <td>15.10850</td>\n",
       "      <td>31.498100</td>\n",
       "      <td>34.867600</td>\n",
       "      <td>53.238400</td>\n",
       "      <td>43.231400</td>\n",
       "    </tr>\n",
       "    <tr>\n",
       "      <th>mean</th>\n",
       "      <td>5.602453</td>\n",
       "      <td>6.844503</td>\n",
       "      <td>9.292054</td>\n",
       "      <td>8.701398</td>\n",
       "      <td>13.797526</td>\n",
       "      <td>3.415646</td>\n",
       "      <td>5.923353</td>\n",
       "      <td>5.58618</td>\n",
       "      <td>8.441437</td>\n",
       "      <td>9.699616</td>\n",
       "      <td>19.437804</td>\n",
       "      <td>10.925098</td>\n",
       "    </tr>\n",
       "    <tr>\n",
       "      <th>50%</th>\n",
       "      <td>5.178650</td>\n",
       "      <td>6.717650</td>\n",
       "      <td>9.262850</td>\n",
       "      <td>9.240850</td>\n",
       "      <td>10.634800</td>\n",
       "      <td>3.113000</td>\n",
       "      <td>5.739400</td>\n",
       "      <td>4.25915</td>\n",
       "      <td>7.449900</td>\n",
       "      <td>8.700750</td>\n",
       "      <td>16.464500</td>\n",
       "      <td>9.485450</td>\n",
       "    </tr>\n",
       "  </tbody>\n",
       "</table>\n",
       "</div>"
      ],
      "text/plain": [
       "      Power_range_sensor_1  Power_range_sensor_2  Power_range_sensor_3  \\\n",
       "min               0.085100              0.040300              4.382600   \n",
       "max              12.129800             11.928400             14.098200   \n",
       "mean              5.602453              6.844503              9.292054   \n",
       "50%               5.178650              6.717650              9.262850   \n",
       "\n",
       "      Power_range_sensor_4  Pressure_sensor_1  Pressure_sensor_2  \\\n",
       "min               0.154700           0.024800           0.010400   \n",
       "max              16.356800          56.856200           9.221200   \n",
       "mean              8.701398          13.797526           3.415646   \n",
       "50%               9.240850          10.634800           3.113000   \n",
       "\n",
       "      Pressure_sensor_3  Pressure_sensor_4  Vibration_sensor_1  \\\n",
       "min            0.077400            0.00580            0.009200   \n",
       "max           12.647500           15.10850           31.498100   \n",
       "mean           5.923353            5.58618            8.441437   \n",
       "50%            5.739400            4.25915            7.449900   \n",
       "\n",
       "      Vibration_sensor_2  Vibration_sensor_3  Vibration_sensor_4  \n",
       "min             0.027700            0.064600            0.083100  \n",
       "max            34.867600           53.238400           43.231400  \n",
       "mean            9.699616           19.437804           10.925098  \n",
       "50%             8.700750           16.464500            9.485450  "
      ]
     },
     "execution_count": 14,
     "metadata": {},
     "output_type": "execute_result"
    }
   ],
   "source": [
    "nuclearNormalPan.describe().loc[['min','max','mean','50%']]\n",
    "#nuclearNormal.summary(\"min\", \"max\", \"mean\", \"50%\").show()"
   ]
  },
  {
   "cell_type": "markdown",
   "id": "f3d735e3",
   "metadata": {},
   "source": [
    "#### Calculate the minimum, maximum, mean, and median for the 'abnormal' entries."
   ]
  },
  {
   "cell_type": "markdown",
   "id": "b6890290",
   "metadata": {},
   "source": [
    "##### Uncomment for a cleaner display of the table."
   ]
  },
  {
   "cell_type": "markdown",
   "id": "4de0ba93",
   "metadata": {},
   "source": [
    "###### In the table, '50%' is the median."
   ]
  },
  {
   "cell_type": "code",
   "execution_count": 15,
   "id": "886f1b45",
   "metadata": {},
   "outputs": [
    {
     "data": {
      "text/html": [
       "<div>\n",
       "<style scoped>\n",
       "    .dataframe tbody tr th:only-of-type {\n",
       "        vertical-align: middle;\n",
       "    }\n",
       "\n",
       "    .dataframe tbody tr th {\n",
       "        vertical-align: top;\n",
       "    }\n",
       "\n",
       "    .dataframe thead th {\n",
       "        text-align: right;\n",
       "    }\n",
       "</style>\n",
       "<table border=\"1\" class=\"dataframe\">\n",
       "  <thead>\n",
       "    <tr style=\"text-align: right;\">\n",
       "      <th></th>\n",
       "      <th>Power_range_sensor_1</th>\n",
       "      <th>Power_range_sensor_2</th>\n",
       "      <th>Power_range_sensor_3</th>\n",
       "      <th>Power_range_sensor_4</th>\n",
       "      <th>Pressure_sensor_1</th>\n",
       "      <th>Pressure_sensor_2</th>\n",
       "      <th>Pressure_sensor_3</th>\n",
       "      <th>Pressure_sensor_4</th>\n",
       "      <th>Vibration_sensor_1</th>\n",
       "      <th>Vibration_sensor_2</th>\n",
       "      <th>Vibration_sensor_3</th>\n",
       "      <th>Vibration_sensor_4</th>\n",
       "    </tr>\n",
       "  </thead>\n",
       "  <tbody>\n",
       "    <tr>\n",
       "      <th>min</th>\n",
       "      <td>0.008200</td>\n",
       "      <td>0.389100</td>\n",
       "      <td>2.583966</td>\n",
       "      <td>0.062300</td>\n",
       "      <td>0.131478</td>\n",
       "      <td>0.008262</td>\n",
       "      <td>0.001224</td>\n",
       "      <td>0.029478</td>\n",
       "      <td>0.000000</td>\n",
       "      <td>0.018500</td>\n",
       "      <td>0.131784</td>\n",
       "      <td>0.009200</td>\n",
       "    </tr>\n",
       "    <tr>\n",
       "      <th>max</th>\n",
       "      <td>10.923078</td>\n",
       "      <td>10.154100</td>\n",
       "      <td>15.759900</td>\n",
       "      <td>17.235858</td>\n",
       "      <td>67.979400</td>\n",
       "      <td>10.242738</td>\n",
       "      <td>11.772400</td>\n",
       "      <td>16.555620</td>\n",
       "      <td>36.186438</td>\n",
       "      <td>34.331466</td>\n",
       "      <td>36.911454</td>\n",
       "      <td>26.466900</td>\n",
       "    </tr>\n",
       "    <tr>\n",
       "      <th>mean</th>\n",
       "      <td>4.396695</td>\n",
       "      <td>5.914043</td>\n",
       "      <td>9.164170</td>\n",
       "      <td>6.009146</td>\n",
       "      <td>14.600728</td>\n",
       "      <td>2.740270</td>\n",
       "      <td>5.575115</td>\n",
       "      <td>4.407824</td>\n",
       "      <td>7.887689</td>\n",
       "      <td>10.303570</td>\n",
       "      <td>10.938159</td>\n",
       "      <td>8.942085</td>\n",
       "    </tr>\n",
       "    <tr>\n",
       "      <th>50%</th>\n",
       "      <td>4.513550</td>\n",
       "      <td>5.932218</td>\n",
       "      <td>9.472050</td>\n",
       "      <td>5.399300</td>\n",
       "      <td>12.596150</td>\n",
       "      <td>2.382689</td>\n",
       "      <td>5.744257</td>\n",
       "      <td>3.322575</td>\n",
       "      <td>6.535950</td>\n",
       "      <td>8.973100</td>\n",
       "      <td>8.987269</td>\n",
       "      <td>8.137600</td>\n",
       "    </tr>\n",
       "  </tbody>\n",
       "</table>\n",
       "</div>"
      ],
      "text/plain": [
       "      Power_range_sensor_1  Power_range_sensor_2  Power_range_sensor_3  \\\n",
       "min               0.008200              0.389100              2.583966   \n",
       "max              10.923078             10.154100             15.759900   \n",
       "mean              4.396695              5.914043              9.164170   \n",
       "50%               4.513550              5.932218              9.472050   \n",
       "\n",
       "      Power_range_sensor_4  Pressure_sensor_1  Pressure_sensor_2  \\\n",
       "min               0.062300           0.131478           0.008262   \n",
       "max              17.235858          67.979400          10.242738   \n",
       "mean              6.009146          14.600728           2.740270   \n",
       "50%               5.399300          12.596150           2.382689   \n",
       "\n",
       "      Pressure_sensor_3  Pressure_sensor_4  Vibration_sensor_1  \\\n",
       "min            0.001224           0.029478            0.000000   \n",
       "max           11.772400          16.555620           36.186438   \n",
       "mean           5.575115           4.407824            7.887689   \n",
       "50%            5.744257           3.322575            6.535950   \n",
       "\n",
       "      Vibration_sensor_2  Vibration_sensor_3  Vibration_sensor_4  \n",
       "min             0.018500            0.131784            0.009200  \n",
       "max            34.331466           36.911454           26.466900  \n",
       "mean           10.303570           10.938159            8.942085  \n",
       "50%             8.973100            8.987269            8.137600  "
      ]
     },
     "execution_count": 15,
     "metadata": {},
     "output_type": "execute_result"
    }
   ],
   "source": [
    "nuclearAbnormalPan.describe().loc[['min','max','mean','50%']]\n",
    "#nuclearAbnormal.summary(\"min\", \"max\", \"mean\", \"50%\").show()"
   ]
  },
  {
   "cell_type": "markdown",
   "id": "ffc83db1",
   "metadata": {},
   "source": [
    "##### Calculate and display the boxplots for the 'normal' entries."
   ]
  },
  {
   "cell_type": "code",
   "execution_count": 16,
   "id": "714db3ce",
   "metadata": {},
   "outputs": [
    {
     "data": {
      "image/png": "[encoded data removed]",
      "text/plain": [
       "<Figure size 2500x1500 with 1 Axes>"
      ]
     },
     "metadata": {},
     "output_type": "display_data"
    }
   ],
   "source": [
    "boxNormal = nuclearNormalPan.boxplot(figsize=(25,15), showfliers = False)"
   ]
  },
  {
   "cell_type": "markdown",
   "id": "69a6f066",
   "metadata": {},
   "source": [
    "##### Calculate and display the boxplots for the 'abnormal' entries."
   ]
  },
  {
   "cell_type": "code",
   "execution_count": 17,
   "id": "c3bcd407",
   "metadata": {},
   "outputs": [],
   "source": [
    "boxAbnormal = nuclearAbnormalPan.boxplot(figsize=(25,15), showfliers = False)"
   ]
  },
  {
   "cell_type": "markdown",
   "id": "4ab37348",
   "metadata": {},
   "source": [
    "### Task 1.3 - Display the Correlations in the Data"
   ]
  },
  {
   "cell_type": "markdown",
   "id": "805c51bb",
   "metadata": {},
   "source": [
    "To understand the relationship between features. If two features have high correlations, using only one of them could be enough for our analysis. Show in a table the correlation matrix of the features, where each element in the matrix shows the correlation coefficient of two features. Discuss your observations on the correlation matrix. Are there any features which are highly correlated? In any case, we will use all the features in the following tasks."
   ]
  },
  {
   "cell_type": "markdown",
   "id": "da795ab6",
   "metadata": {},
   "source": [
    "#### Display the correlation matrix."
   ]
  },
  {
   "cell_type": "markdown",
   "id": "ebdc8113",
   "metadata": {},
   "source": [
    "##### Implementing the correlation matrix with pandas, displayed as a heatmap.\n"
   ]
  },
  {
   "cell_type": "code",
   "execution_count": 18,
   "id": "516c485f",
   "metadata": {},
   "outputs": [
    {
     "name": "stderr",
     "output_type": "stream",
     "text": [
      "C:\\Users\\chukl\\AppData\\Local\\Temp\\ipykernel_27192\\1408763884.py:1: FutureWarning: The default value of numeric_only in DataFrame.corr is deprecated. In a future version, it will default to False. Select only valid columns or specify the value of numeric_only to silence this warning.\n",
      "  correlationPandas = nuclear4.corr()\n"
     ]
    },
    {
     "data": {
      "text/plain": [
       "<AxesSubplot:>"
      ]
     },
     "execution_count": 18,
     "metadata": {},
     "output_type": "execute_result"
    }
   ],
   "source": [
    "correlationPandas = nuclear4.corr()\n",
    "sn.heatmap(correlationPandas, \n",
    "            xticklabels=correlationPandas.columns.values,\n",
    "            yticklabels=correlationPandas.columns.values, annot=True)"
   ]
  },
  {
   "cell_type": "markdown",
   "id": "44336a65",
   "metadata": {},
   "source": [
    "### Task 1.4 - Prepare the Data for Model Training"
   ]
  },
  {
   "cell_type": "markdown",
   "id": "19e3d066",
   "metadata": {},
   "source": [
    "Shuffle the data samples and split it into a 70% training set and a 30% test set. How many examples in each group for the training dataset? How many examples in each group for the testing dataset? "
   ]
  },
  {
   "cell_type": "markdown",
   "id": "0b450449",
   "metadata": {},
   "source": [
    "#### Generate a new DataFrame that contains a features column."
   ]
  },
  {
   "cell_type": "markdown",
   "id": "6c84de7a",
   "metadata": {},
   "source": [
    "##### Collect a list of the column names."
   ]
  },
  {
   "cell_type": "code",
   "execution_count": 19,
   "id": "1020e818",
   "metadata": {},
   "outputs": [
    {
     "data": {
      "text/plain": [
       "['Status',\n",
       " 'Power_range_sensor_1',\n",
       " 'Power_range_sensor_2',\n",
       " 'Power_range_sensor_3',\n",
       " 'Power_range_sensor_4',\n",
       " 'Pressure_sensor_1',\n",
       " 'Pressure_sensor_2',\n",
       " 'Pressure_sensor_3',\n",
       " 'Pressure_sensor_4',\n",
       " 'Vibration_sensor_1',\n",
       " 'Vibration_sensor_2',\n",
       " 'Vibration_sensor_3',\n",
       " 'Vibration_sensor_4']"
      ]
     },
     "execution_count": 19,
     "metadata": {},
     "output_type": "execute_result"
    }
   ],
   "source": [
    "nuclear3.columns"
   ]
  },
  {
   "cell_type": "markdown",
   "id": "2742e9c4",
   "metadata": {},
   "source": [
    "##### Build a feature transformer using the list of column names."
   ]
  },
  {
   "cell_type": "code",
   "execution_count": 20,
   "id": "706a98e9",
   "metadata": {},
   "outputs": [],
   "source": [
    "assembler = VectorAssembler(inputCols=['Power_range_sensor_1',\n",
    "                                       'Power_range_sensor_2',\n",
    "                                       'Power_range_sensor_3',\n",
    "                                       'Power_range_sensor_4',\n",
    "                                       'Pressure_sensor_1',\n",
    "                                       'Pressure_sensor_2',\n",
    "                                       'Pressure_sensor_3',\n",
    "                                       'Pressure_sensor_4',\n",
    "                                       'Vibration_sensor_1',\n",
    "                                       'Vibration_sensor_2',\n",
    "                                       'Vibration_sensor_3',\n",
    "                                        'Vibration_sensor_4'], outputCol= \"features\")"
   ]
  },
  {
   "cell_type": "markdown",
   "id": "01783364",
   "metadata": {},
   "source": [
    "##### Create the features column. Show a sample to validate it has worked."
   ]
  },
  {
   "cell_type": "code",
   "execution_count": 21,
   "id": "9f24b1a9",
   "metadata": {},
   "outputs": [
    {
     "name": "stdout",
     "output_type": "stream",
     "text": [
      "+------+--------------------+--------------------+--------------------+--------------------+-----------------+-----------------+-----------------+-----------------+------------------+------------------+------------------+------------------+--------------------+\n",
      "|Status|Power_range_sensor_1|Power_range_sensor_2|Power_range_sensor_3|Power_range_sensor_4|Pressure_sensor_1|Pressure_sensor_2|Pressure_sensor_3|Pressure_sensor_4|Vibration_sensor_1|Vibration_sensor_2|Vibration_sensor_3|Vibration_sensor_4|            features|\n",
      "+------+--------------------+--------------------+--------------------+--------------------+-----------------+-----------------+-----------------+-----------------+------------------+------------------+------------------+------------------+--------------------+\n",
      "|Normal|              4.5767|              7.3654|              8.3011|              2.1002|          12.3978|            1.608|           4.0482|           2.0449|            9.8962|             6.656|           14.0228|            14.512|[4.5767,7.3654,8....|\n",
      "|Normal|                2.59|             11.2372|             13.7769|              8.3524|           1.1356|           1.0242|           7.0352|           0.2786|           12.9796|            9.5916|           26.8546|           17.6785|[2.59,11.2372,13....|\n",
      "+------+--------------------+--------------------+--------------------+--------------------+-----------------+-----------------+-----------------+-----------------+------------------+------------------+------------------+------------------+--------------------+\n",
      "only showing top 2 rows\n",
      "\n"
     ]
    }
   ],
   "source": [
    "nuclear6 = assembler.transform(nuclear3)\n",
    "nuclear6.sample(0.01).show(2)"
   ]
  },
  {
   "cell_type": "markdown",
   "id": "3e320a2c",
   "metadata": {},
   "source": [
    "#### Create a new index column, using StringIndexer()."
   ]
  },
  {
   "cell_type": "code",
   "execution_count": 22,
   "id": "92d80c3a",
   "metadata": {},
   "outputs": [
    {
     "name": "stdout",
     "output_type": "stream",
     "text": [
      "+--------+--------------------+--------------------+--------------------+--------------------+-----------------+-----------------+-----------------+-----------------+------------------+------------------+------------------+------------------+--------------------+-----+\n",
      "|  Status|Power_range_sensor_1|Power_range_sensor_2|Power_range_sensor_3|Power_range_sensor_4|Pressure_sensor_1|Pressure_sensor_2|Pressure_sensor_3|Pressure_sensor_4|Vibration_sensor_1|Vibration_sensor_2|Vibration_sensor_3|Vibration_sensor_4|            features|label|\n",
      "+--------+--------------------+--------------------+--------------------+--------------------+-----------------+-----------------+-----------------+-----------------+------------------+------------------+------------------+------------------+--------------------+-----+\n",
      "|  Normal|              4.9384|              4.1675|              5.6369|              2.5845|           3.8532|           1.5918|           9.6893|           2.6529|           20.3648|            0.9509|            9.9516|           22.4142|[4.9384,4.1675,5....|  1.0|\n",
      "|  Normal|              4.5813|              7.4167|              10.622|              1.5372|           2.4597|           4.0702|           4.0413|           2.2761|            5.2343|           11.6687|           13.5981|            9.4347|[4.5813,7.4167,10...|  1.0|\n",
      "|  Normal|              5.6351|              6.5057|              8.1931|             11.0843|          44.4534|           5.7891|           6.0087|           6.0261|           13.2935|            9.5731|           17.0692|            2.8156|[5.6351,6.5057,8....|  1.0|\n",
      "|  Normal|              9.0042|              5.0528|              7.6135|             10.0177|          28.6339|           6.8191|            3.728|           3.1939|            8.8992|            2.3171|            3.8219|             2.991|[9.0042,5.0528,7....|  1.0|\n",
      "|Abnormal|              6.3821|              7.3059|             12.4686|              2.6605|          18.9884|           2.7766|           4.2748|           1.8623|           14.5213|            7.0621|            9.2962|           15.5367|[6.3821,7.3059,12...|  0.0|\n",
      "|Abnormal|              4.5987|              6.1606|              8.3926|              6.3007|          30.6572|           1.6796|           3.7685|           1.2982|            6.9975|           13.3673|            9.5177|            6.5452|[4.5987,6.1606,8....|  0.0|\n",
      "|Abnormal|            0.649944|             3.33285|            3.903438|             4.10142|        12.837924|         2.280312|         6.075834|         1.622412|         11.591382|          19.04901|          4.868154|          5.320116|[0.649944,3.33285...|  0.0|\n",
      "|Abnormal|            2.705346|            6.672228|             9.98274|            2.725848|        15.862836|         0.508164|          6.37296|         0.273564|         21.271182|          3.107328|         13.757046|          6.883266|[2.705346,6.67222...|  0.0|\n",
      "|Abnormal|            3.479526|            7.477212|           10.913796|            6.045642|        13.804068|         2.102322|         5.302368|         5.996886|           4.85877|          5.809818|         22.617684|          6.864396|[3.479526,7.47721...|  0.0|\n",
      "+--------+--------------------+--------------------+--------------------+--------------------+-----------------+-----------------+-----------------+-----------------+------------------+------------------+------------------+------------------+--------------------+-----+\n",
      "\n"
     ]
    }
   ],
   "source": [
    "indexer = StringIndexer(inputCol=\"Status\", outputCol=\"label\")\n",
    "nuclear7 = indexer.fit(nuclear6).transform(nuclear6)\n",
    "nuclear7.sample(0.01).show()"
   ]
  },
  {
   "cell_type": "markdown",
   "id": "ea9b3550",
   "metadata": {},
   "source": [
    "#### Split the dataset into a training set and a test set, 7:3 respectively, using randomSplit()."
   ]
  },
  {
   "cell_type": "markdown",
   "id": "331edd5e",
   "metadata": {},
   "source": [
    "##### A seed is being used to retain the same random split every single time this code is run. The number 34 produces the closest split, 70:30."
   ]
  },
  {
   "cell_type": "code",
   "execution_count": 23,
   "id": "de144c6c",
   "metadata": {},
   "outputs": [],
   "source": [
    "nuclearTrain, nuclearTest = nuclear7.randomSplit([0.70, 0.30], seed=34)"
   ]
  },
  {
   "cell_type": "markdown",
   "id": "28dce5c4",
   "metadata": {},
   "source": [
    "#### Count the number of entries in the training set."
   ]
  },
  {
   "cell_type": "code",
   "execution_count": 24,
   "id": "332f1d8b",
   "metadata": {},
   "outputs": [
    {
     "data": {
      "text/plain": [
       "697"
      ]
     },
     "execution_count": 24,
     "metadata": {},
     "output_type": "execute_result"
    }
   ],
   "source": [
    "nuclearTrain.count()"
   ]
  },
  {
   "cell_type": "markdown",
   "id": "91ad1827",
   "metadata": {},
   "source": [
    "#### Count the number of entries in the test set."
   ]
  },
  {
   "cell_type": "code",
   "execution_count": 25,
   "id": "1a69b0a2",
   "metadata": {},
   "outputs": [
    {
     "data": {
      "text/plain": [
       "299"
      ]
     },
     "execution_count": 25,
     "metadata": {},
     "output_type": "execute_result"
    }
   ],
   "source": [
    "nuclearTest.count()"
   ]
  },
  {
   "cell_type": "markdown",
   "id": "921189bd",
   "metadata": {},
   "source": [
    "#### Save the number of test entries to a variable."
   ]
  },
  {
   "cell_type": "code",
   "execution_count": 26,
   "id": "41fa69a5",
   "metadata": {},
   "outputs": [],
   "source": [
    "nuclearTestCounter = nuclearTest.count()"
   ]
  },
  {
   "cell_type": "markdown",
   "id": "0cc00fb0",
   "metadata": {},
   "source": [
    "### Task 1.5 - Train the Classification Prediction Models"
   ]
  },
  {
   "cell_type": "markdown",
   "id": "c8cda57a",
   "metadata": {},
   "source": [
    "Train a decision tree, a support vector machine model and an artificial neural network using the training set, and then apply the trained classifiers to the test set. You will obtain the predicted labels for the test set. Now evaluate and compare the classifiers, respectively, by computing the error rate (Incorrectly Classified Samples divided by Classified Sample). Calculate the sensitivity and specificity. Briefly discuss the error rate, sensitivity and specificity."
   ]
  },
  {
   "cell_type": "markdown",
   "id": "56916d3d",
   "metadata": {},
   "source": [
    "#### Create a function that can be used to output the error rate, sensitivity, and specificity."
   ]
  },
  {
   "cell_type": "markdown",
   "id": "edf16df7",
   "metadata": {},
   "source": [
    "The function will take in a confusion matrix, index the relevant values, and input them to the appropriate formulae."
   ]
  },
  {
   "cell_type": "code",
   "execution_count": 27,
   "id": "c7d48097",
   "metadata": {},
   "outputs": [],
   "source": [
    "def evaluateModel(matrix, count):\n",
    "    errorRate = (matrix[0][1] + matrix[1][0]) / count\n",
    "    \n",
    "    sensitivity = (matrix[0][0] / (matrix[0][0] + matrix[1][0]))\n",
    "    \n",
    "    specificity = (matrix[1][1] / (matrix[0][1] + matrix[1][1]))   \n",
    "    \n",
    "    return errorRate, sensitivity, specificity"
   ]
  },
  {
   "cell_type": "markdown",
   "id": "cee6e43a",
   "metadata": {},
   "source": [
    "#### Train a decision tree using the training set."
   ]
  },
  {
   "cell_type": "code",
   "execution_count": 28,
   "id": "52d95348",
   "metadata": {},
   "outputs": [
    {
     "name": "stdout",
     "output_type": "stream",
     "text": [
      "+--------------------+-----+----------+\n",
      "|            features|label|prediction|\n",
      "+--------------------+-----+----------+\n",
      "|[0.03825,3.606516...|  0.0|       0.0|\n",
      "|[0.250308,4.18822...|  0.0|       0.0|\n",
      "|[0.41463,3.691482...|  0.0|       0.0|\n",
      "+--------------------+-----+----------+\n",
      "only showing top 3 rows\n",
      "\n"
     ]
    }
   ],
   "source": [
    "nuclearTreeClassifier = DecisionTreeClassifier(labelCol= \"label\").fit(nuclearTrain)\n",
    "nuclearTreePredictions = nuclearTreeClassifier.transform(nuclearTest)\n",
    "nuclearTreePredictions.select(\"features\", \"label\", \"prediction\").show(3)"
   ]
  },
  {
   "cell_type": "markdown",
   "id": "36220e14",
   "metadata": {},
   "source": [
    "##### Calculate a confusion matrix."
   ]
  },
  {
   "cell_type": "code",
   "execution_count": 29,
   "id": "918affb6",
   "metadata": {},
   "outputs": [],
   "source": [
    "nuclearTreePrime = nuclearTreePredictions.select(\"prediction\").collect()\n",
    "nuclearTreeOriginal = nuclearTreePredictions.select(\"label\").collect()\n",
    "treeConfusionMatrix = confusion_matrix(nuclearTreeOriginal, nuclearTreePrime)"
   ]
  },
  {
   "cell_type": "markdown",
   "id": "cc6acb32",
   "metadata": {},
   "source": [
    "##### Use the values from the confusion matrix to calculate error rate, sensitivity, and specificity."
   ]
  },
  {
   "cell_type": "code",
   "execution_count": 30,
   "id": "aed51710",
   "metadata": {},
   "outputs": [
    {
     "name": "stdout",
     "output_type": "stream",
     "text": [
      "Error Rate:  0.17725752508361203\n",
      "Sensitivity:  0.8113207547169812\n",
      "Specificity:  0.8357142857142857\n"
     ]
    }
   ],
   "source": [
    "treeErrorRate, treeSensitivity, treeSpecificity = evaluateModel(treeConfusionMatrix, nuclearTestCounter)\n",
    "print(\"Error Rate: \", treeErrorRate)\n",
    "print(\"Sensitivity: \", treeSensitivity)\n",
    "print(\"Specificity: \", treeSpecificity)"
   ]
  },
  {
   "cell_type": "markdown",
   "id": "e8ddf307",
   "metadata": {},
   "source": [
    "#### Train a support vector machine using the training set."
   ]
  },
  {
   "cell_type": "code",
   "execution_count": 31,
   "id": "72392ef7",
   "metadata": {},
   "outputs": [
    {
     "name": "stdout",
     "output_type": "stream",
     "text": [
      "+--------------------+-----+----------+\n",
      "|            features|label|prediction|\n",
      "+--------------------+-----+----------+\n",
      "|[0.03825,3.606516...|  0.0|       0.0|\n",
      "|[0.250308,4.18822...|  0.0|       0.0|\n",
      "|[0.41463,3.691482...|  0.0|       0.0|\n",
      "+--------------------+-----+----------+\n",
      "only showing top 3 rows\n",
      "\n"
     ]
    }
   ],
   "source": [
    "nuclearSVM = LinearSVC(labelCol= \"label\", maxIter=50).fit(nuclearTrain)\n",
    "nuclearSVMPredictions = nuclearSVM.transform(nuclearTest)\n",
    "nuclearSVMPredictions.select(\"features\", \"label\", \"prediction\").show(3)"
   ]
  },
  {
   "cell_type": "markdown",
   "id": "be83c817",
   "metadata": {},
   "source": [
    "##### Calculate a confusion matrix."
   ]
  },
  {
   "cell_type": "code",
   "execution_count": 32,
   "id": "bfdfa434",
   "metadata": {},
   "outputs": [],
   "source": [
    "nuclearSVMPrime = nuclearSVMPredictions.select(\"prediction\").collect()\n",
    "nuclearSVMOriginal = nuclearSVMPredictions.select(\"label\").collect()\n",
    "svmConfusionMatrix = confusion_matrix(nuclearSVMOriginal, nuclearSVMPrime)"
   ]
  },
  {
   "cell_type": "markdown",
   "id": "e3b71f9a",
   "metadata": {},
   "source": [
    "##### Use the values from the confusion matrix to calculate error rate, sensitivity, and specificity."
   ]
  },
  {
   "cell_type": "code",
   "execution_count": 33,
   "id": "58f6b9d9",
   "metadata": {},
   "outputs": [
    {
     "name": "stdout",
     "output_type": "stream",
     "text": [
      "Error Rate:  0.25418060200668896\n",
      "Sensitivity:  0.740506329113924\n",
      "Specificity:  0.75177304964539\n"
     ]
    }
   ],
   "source": [
    "svmErrorRate, svmSensitivity, svmSpecificity = evaluateModel(svmConfusionMatrix, nuclearTestCounter)\n",
    "print(\"Error Rate: \", svmErrorRate)\n",
    "print(\"Sensitivity: \", svmSensitivity)\n",
    "print(\"Specificity: \", svmSpecificity)"
   ]
  },
  {
   "cell_type": "markdown",
   "id": "42c5b3f8",
   "metadata": {},
   "source": [
    "#### Train an artificial neural network using the training set."
   ]
  },
  {
   "cell_type": "markdown",
   "id": "48641742",
   "metadata": {},
   "source": [
    "##### Establish the layers."
   ]
  },
  {
   "cell_type": "code",
   "execution_count": 34,
   "id": "25441345",
   "metadata": {},
   "outputs": [],
   "source": [
    "layers = [12, 12, 12, 2]"
   ]
  },
  {
   "cell_type": "markdown",
   "id": "103bb145",
   "metadata": {},
   "source": [
    "##### Use the model to calculate predictions."
   ]
  },
  {
   "cell_type": "code",
   "execution_count": 35,
   "id": "adc3cdc0",
   "metadata": {},
   "outputs": [
    {
     "name": "stdout",
     "output_type": "stream",
     "text": [
      "+--------------------+-----+----------+\n",
      "|            features|label|prediction|\n",
      "+--------------------+-----+----------+\n",
      "|[0.03825,3.606516...|  0.0|       0.0|\n",
      "|[0.250308,4.18822...|  0.0|       0.0|\n",
      "|[0.41463,3.691482...|  0.0|       0.0|\n",
      "+--------------------+-----+----------+\n",
      "only showing top 3 rows\n",
      "\n"
     ]
    }
   ],
   "source": [
    "nuclearNeuralModel = MultilayerPerceptronClassifier(featuresCol= 'features', labelCol= 'label', layers = layers, seed = 1).fit(nuclearTrain)\n",
    "nuclearNeuralPredictions = nuclearNeuralModel.transform(nuclearTest)\n",
    "nuclearNeuralPredictions.select(\"features\", \"label\", \"prediction\").show(3)"
   ]
  },
  {
   "cell_type": "markdown",
   "id": "f9a40e84",
   "metadata": {},
   "source": [
    "##### Calculate a confusion matrix."
   ]
  },
  {
   "cell_type": "code",
   "execution_count": 36,
   "id": "7210d211",
   "metadata": {},
   "outputs": [],
   "source": [
    "nuclearNeuralPrime = nuclearNeuralPredictions.select(\"prediction\").collect()\n",
    "nuclearNeuralOriginal = nuclearNeuralPredictions.select(\"label\").collect()\n",
    "neuralConfusionMatrix = confusion_matrix(nuclearNeuralOriginal, nuclearNeuralPrime)"
   ]
  },
  {
   "cell_type": "markdown",
   "id": "e033c782",
   "metadata": {},
   "source": [
    "##### Use the values from the confusion matrix to calculate error rate, sensitivity, and specificity."
   ]
  },
  {
   "cell_type": "code",
   "execution_count": 37,
   "id": "b818abd0",
   "metadata": {},
   "outputs": [
    {
     "name": "stdout",
     "output_type": "stream",
     "text": [
      "Error Rate:  0.19063545150501673\n",
      "Sensitivity:  0.7987421383647799\n",
      "Specificity:  0.8214285714285714\n"
     ]
    }
   ],
   "source": [
    "neuralErrorRate, neuralSensitivity, neuralSpecificity = evaluateModel(neuralConfusionMatrix, nuclearTestCounter)\n",
    "print(\"Error Rate: \", neuralErrorRate)\n",
    "print(\"Sensitivity: \", neuralSensitivity)\n",
    "print(\"Specificity: \", neuralSpecificity)"
   ]
  },
  {
   "cell_type": "markdown",
   "id": "b7763cb1",
   "metadata": {},
   "source": [
    "## Task 2 - MapReduce for Margie Travel Dataset"
   ]
  },
  {
   "cell_type": "markdown",
   "id": "5e42420c",
   "metadata": {},
   "source": [
    "### Task 2.1 - Determine the Number of Flights From Each Airport"
   ]
  },
  {
   "cell_type": "markdown",
   "id": "46aeb01e",
   "metadata": {},
   "source": [
    "Determine the number of flights from each airport; include a list of any airports not used."
   ]
  },
  {
   "cell_type": "markdown",
   "id": "944acc5a",
   "metadata": {},
   "source": [
    "#### Initialise a new SparkContext."
   ]
  },
  {
   "cell_type": "code",
   "execution_count": 38,
   "id": "061fb376",
   "metadata": {},
   "outputs": [],
   "source": [
    "margie = spark.sparkContext"
   ]
  },
  {
   "cell_type": "markdown",
   "id": "c582f0a7",
   "metadata": {},
   "source": [
    "#### Read in data from the Margie Travel dataset."
   ]
  },
  {
   "cell_type": "code",
   "execution_count": 39,
   "id": "df7f4018",
   "metadata": {},
   "outputs": [],
   "source": [
    "passengerData = margie.textFile('AComp_Passenger_data_no_error.csv')\n",
    "\n",
    "airportData = margie.textFile('Top30_airports_LatLong.csv')"
   ]
  },
  {
   "cell_type": "markdown",
   "id": "8445076d",
   "metadata": {},
   "source": [
    "#### Check the passenger data was read correctly. Filter out any null entries."
   ]
  },
  {
   "cell_type": "code",
   "execution_count": 40,
   "id": "868d62bc",
   "metadata": {},
   "outputs": [
    {
     "data": {
      "text/plain": [
       "['UES9151GS5,SQU6245R,DEN,FRA,1420564460,1049',\n",
       " 'UES9151GS5,XXQ4064B,JFK,FRA,1420563917,802',\n",
       " 'EZC9678QI6,SOH3431A,ORD,MIA,1420563649,250',\n",
       " 'ONL0812DH1,SOH3431A,ORD,MIA,1420563649,250',\n",
       " 'CYJ0225CH1,PME8178S,DEN,PEK,1420564409,1322']"
      ]
     },
     "execution_count": 40,
     "metadata": {},
     "output_type": "execute_result"
    }
   ],
   "source": [
    "passengerData = passengerData.filter(lambda x: x != '')\n",
    "passengerData.take(5)"
   ]
  },
  {
   "cell_type": "markdown",
   "id": "4d1c9c8c",
   "metadata": {},
   "source": [
    "#### Check the airport data was read correctly. Filter out any null entries."
   ]
  },
  {
   "cell_type": "code",
   "execution_count": 41,
   "id": "36a8e82b",
   "metadata": {},
   "outputs": [
    {
     "data": {
      "text/plain": [
       "['ATLANTA,ATL,33.636719,-84.428067',\n",
       " 'BEIJING,PEK,40.080111,116.584556',\n",
       " 'LONDON,LHR,51.4775,-0.461389',\n",
       " 'CHICAGO,ORD,41.978603,-87.904842',\n",
       " 'TOKYO,HND,35.552258,139.779694']"
      ]
     },
     "execution_count": 41,
     "metadata": {},
     "output_type": "execute_result"
    }
   ],
   "source": [
    "airportData = airportData.filter(lambda x: x != '')\n",
    "airportData.take(5)"
   ]
  },
  {
   "cell_type": "markdown",
   "id": "adb46e4f",
   "metadata": {},
   "source": [
    "#### Split each string in the passenger data, so that they can be indexed."
   ]
  },
  {
   "cell_type": "code",
   "execution_count": 42,
   "id": "19b183a0",
   "metadata": {},
   "outputs": [],
   "source": [
    "passengerData1 = passengerData.map(lambda x: x.split(','))"
   ]
  },
  {
   "cell_type": "markdown",
   "id": "4368e810",
   "metadata": {},
   "source": [
    "#### Split each string in the airport data, so that they can be indexed."
   ]
  },
  {
   "cell_type": "code",
   "execution_count": 43,
   "id": "f35ea30d",
   "metadata": {},
   "outputs": [],
   "source": [
    "airportData1 = airportData.map(lambda x: x.split(','))"
   ]
  },
  {
   "cell_type": "markdown",
   "id": "fccc9700",
   "metadata": {},
   "source": [
    "#### Get a list of all of the flights. This will include the flight ID and the departing airport. Also, return the number of passengers as a value."
   ]
  },
  {
   "cell_type": "code",
   "execution_count": 44,
   "id": "6235c7a4",
   "metadata": {},
   "outputs": [
    {
     "name": "stdout",
     "output_type": "stream",
     "text": [
      "Flight ID: ULZ8130D, Airport: CAN, Passengers: 27\n",
      "Flight ID: GMO5938W, Airport: LHR, Passengers: 25\n",
      "Flight ID: XXQ4064B, Airport: JFK, Passengers: 25\n",
      "Flight ID: KJR6646J, Airport: IAH, Passengers: 23\n",
      "Flight ID: SQU6245R, Airport: DEN, Passengers: 21\n",
      "Flight ID: WSK1289Z, Airport: CLT, Passengers: 21\n",
      "Flight ID: QHU1140O, Airport: CDG, Passengers: 21\n",
      "Flight ID: FYL5866L, Airport: ATL, Passengers: 20\n",
      "Flight ID: JVY9791G, Airport: PVG, Passengers: 20\n",
      "Flight ID: SOH3431A, Airport: ORD, Passengers: 18\n",
      "Flight ID: PME8178S, Airport: DEN, Passengers: 18\n",
      "Flight ID: VYW5940P, Airport: LAS, Passengers: 17\n",
      "Flight ID: YZO4444S, Airport: BKK, Passengers: 17\n",
      "Flight ID: BER7172M, Airport: KUL, Passengers: 17\n",
      "Flight ID: MBA8071P, Airport: KUL, Passengers: 16\n",
      "Flight ID: XOY7948U, Airport: ATL, Passengers: 16\n",
      "Flight ID: VYU9214I, Airport: ORD, Passengers: 15\n",
      "Flight ID: VDC9164W, Airport: FCO, Passengers: 15\n",
      "Flight ID: ATT7791R, Airport: AMS, Passengers: 15\n",
      "Flight ID: TMV7633W, Airport: CGK, Passengers: 15\n",
      "Flight ID: RUM0422W, Airport: MUC, Passengers: 14\n",
      "Flight ID: HZT2506M, Airport: IAH, Passengers: 14\n",
      "Flight ID: RPG3351U, Airport: HND, Passengers: 13\n",
      "Flight ID: MOO1786A, Airport: MAD, Passengers: 13\n",
      "Flight ID: XIL3623J, Airport: PEK, Passengers: 13\n",
      "Flight ID: DAU2617A, Airport: CGK, Passengers: 12\n",
      "Flight ID: WPW9201U, Airport: DFW, Passengers: 11\n",
      "Flight ID: DKZ3042O, Airport: MIA, Passengers: 11\n",
      "Flight ID: EWH6301Y, Airport: CAN, Passengers: 10\n",
      "Flight ID: HUR0974O, Airport: DEN, Passengers: 7\n"
     ]
    }
   ],
   "source": [
    "passengerData2 = passengerData1.map(lambda x: ((x[1], x[2]), 1)).reduceByKey(lambda x, y: x + y).sortBy(lambda x: x[1], ascending = False)\n",
    "for key, value in passengerData2.collect():\n",
    "    print(f\"Flight ID: {key[0]}, Airport: {key[1]}, Passengers: {value}\")"
   ]
  },
  {
   "cell_type": "markdown",
   "id": "eff755a0",
   "metadata": {},
   "source": [
    "#### Output the number of flights from each airport."
   ]
  },
  {
   "cell_type": "code",
   "execution_count": 45,
   "id": "25fc6d13",
   "metadata": {},
   "outputs": [
    {
     "name": "stdout",
     "output_type": "stream",
     "text": [
      "Airport: DEN, Flights: 3\n",
      "Airport: CAN, Flights: 2\n",
      "Airport: IAH, Flights: 2\n",
      "Airport: ATL, Flights: 2\n",
      "Airport: ORD, Flights: 2\n",
      "Airport: KUL, Flights: 2\n",
      "Airport: CGK, Flights: 2\n",
      "Airport: LHR, Flights: 1\n",
      "Airport: CLT, Flights: 1\n",
      "Airport: CDG, Flights: 1\n",
      "Airport: LAS, Flights: 1\n",
      "Airport: MUC, Flights: 1\n",
      "Airport: HND, Flights: 1\n",
      "Airport: PEK, Flights: 1\n",
      "Airport: JFK, Flights: 1\n",
      "Airport: PVG, Flights: 1\n",
      "Airport: BKK, Flights: 1\n",
      "Airport: FCO, Flights: 1\n",
      "Airport: AMS, Flights: 1\n",
      "Airport: MAD, Flights: 1\n",
      "Airport: DFW, Flights: 1\n",
      "Airport: MIA, Flights: 1\n"
     ]
    }
   ],
   "source": [
    "passengerData3 = passengerData2.map(lambda x: (x[0][1], 1)).reduceByKey(lambda x, y: x + y).sortBy(lambda x: x[1], ascending = False)\n",
    "for key, value in passengerData3.collect():\n",
    "    print(f\"Airport: {key}, Flights: {value}\")"
   ]
  },
  {
   "cell_type": "markdown",
   "id": "d6fe7731",
   "metadata": {},
   "source": [
    "#### Create new RDDs of airport codes."
   ]
  },
  {
   "cell_type": "code",
   "execution_count": 46,
   "id": "3ed99820",
   "metadata": {},
   "outputs": [],
   "source": [
    "passengerData4 = passengerData1.map(lambda x: (x[2], 1)).reduceByKey(lambda x, y: x + y)\n",
    "airportData2 = airportData1.map(lambda x: (x[1], 1)).reduceByKey(lambda x, y: x + y)"
   ]
  },
  {
   "cell_type": "markdown",
   "id": "640a8472",
   "metadata": {},
   "source": [
    "#### Get a list of the airports that didn't have any departures."
   ]
  },
  {
   "cell_type": "code",
   "execution_count": 47,
   "id": "6a518696",
   "metadata": {},
   "outputs": [
    {
     "name": "stdout",
     "output_type": "stream",
     "text": [
      "Airport: LAX\n",
      "Airport: HKG\n",
      "Airport: SIN\n",
      "Airport: SFO\n",
      "Airport: PHX\n",
      "Airport: FRA\n",
      "Airport: DXB\n",
      "Airport: IST\n"
     ]
    }
   ],
   "source": [
    "airportData3 = airportData2.union(passengerData4).reduceByKey(lambda x, y: x + y).filter(lambda x: x[1] <= 1)\n",
    "for key, value in airportData3.collect():\n",
    "    print(f\"Airport: {key}\")"
   ]
  },
  {
   "cell_type": "markdown",
   "id": "14d448be",
   "metadata": {},
   "source": [
    "### Task 2.2 - Display a List of Flight Information"
   ]
  },
  {
   "cell_type": "markdown",
   "id": "08803ee4",
   "metadata": {},
   "source": [
    "Create a list of flights based on the Flight id, this output should include number of passengers, relevant IATA/FAA codes, and departure and arrival times (times converted to HH:MM format)."
   ]
  },
  {
   "cell_type": "markdown",
   "id": "a0f90ca7",
   "metadata": {},
   "source": [
    "#### Create functions that can take in the relevant time codes and output them in HH:MM format."
   ]
  },
  {
   "cell_type": "code",
   "execution_count": 48,
   "id": "01efd6cc",
   "metadata": {},
   "outputs": [],
   "source": [
    "def timeConvert(unixTime):\n",
    "    # Take in the time code and convert it to HH:MM format\n",
    "    unixTime = int(unixTime)\n",
    "    x = datetime.fromtimestamp(unixTime)\n",
    "    y = x.strftime('%H:%M')\n",
    "    return y"
   ]
  },
  {
   "cell_type": "code",
   "execution_count": 49,
   "id": "c26a9504",
   "metadata": {},
   "outputs": [],
   "source": [
    "def timeConvertPlus(unixTime, unixTimePlus):\n",
    "    # Convert the time codes from strings to floats\n",
    "    unixTime = float(unixTime)\n",
    "    unixTimePlus = float(unixTimePlus)\n",
    "    unixTimePlus *= 60\n",
    "    \n",
    "    x = unixTime + unixTimePlus\n",
    "    x = int(x)\n",
    "    y = timeConvert(x)\n",
    "    return y"
   ]
  },
  {
   "cell_type": "markdown",
   "id": "6d9fb51a",
   "metadata": {},
   "source": [
    "#### Create a list of all the relevant flight information. Convert the departure and arrival times using the functions that were created to do so."
   ]
  },
  {
   "cell_type": "code",
   "execution_count": 50,
   "id": "c44e1469",
   "metadata": {},
   "outputs": [
    {
     "name": "stdout",
     "output_type": "stream",
     "text": [
      "Flight ID: ULZ8130D, Departure Airport: CAN, Arrival Airport: DFW, Departure Time: 17:23, Arrival Time: 21:26, Passengers: 27\n",
      "Flight ID: GMO5938W, Departure Airport: LHR, Arrival Airport: PEK, Departure Time: 17:11, Arrival Time: 10:48, Passengers: 25\n",
      "Flight ID: XXQ4064B, Departure Airport: JFK, Arrival Airport: FRA, Departure Time: 17:05, Arrival Time: 06:27, Passengers: 25\n",
      "Flight ID: KJR6646J, Departure Airport: IAH, Arrival Airport: BKK, Departure Time: 17:26, Arrival Time: 01:34, Passengers: 23\n",
      "Flight ID: QHU1140O, Departure Airport: CDG, Arrival Airport: LAS, Departure Time: 17:14, Arrival Time: 12:07, Passengers: 21\n",
      "Flight ID: SQU6245R, Departure Airport: DEN, Arrival Airport: FRA, Departure Time: 17:14, Arrival Time: 10:43, Passengers: 21\n",
      "Flight ID: WSK1289Z, Departure Airport: CLT, Arrival Airport: DEN, Departure Time: 16:59, Arrival Time: 21:37, Passengers: 21\n",
      "Flight ID: JVY9791G, Departure Airport: PVG, Arrival Airport: FCO, Departure Time: 17:16, Arrival Time: 13:05, Passengers: 20\n",
      "Flight ID: FYL5866L, Departure Airport: ATL, Arrival Airport: HKG, Departure Time: 17:25, Arrival Time: 22:36, Passengers: 20\n",
      "Flight ID: PME8178S, Departure Airport: DEN, Arrival Airport: PEK, Departure Time: 17:13, Arrival Time: 15:15, Passengers: 18\n",
      "Flight ID: SOH3431A, Departure Airport: ORD, Arrival Airport: MIA, Departure Time: 17:00, Arrival Time: 21:10, Passengers: 18\n",
      "Flight ID: VYW5940P, Departure Airport: LAS, Arrival Airport: SIN, Departure Time: 17:26, Arrival Time: 00:09, Passengers: 17\n",
      "Flight ID: BER7172M, Departure Airport: KUL, Arrival Airport: LAS, Departure Time: 17:26, Arrival Time: 00:14, Passengers: 17\n",
      "Flight ID: YZO4444S, Departure Airport: BKK, Arrival Airport: MIA, Departure Time: 17:28, Arrival Time: 03:15, Passengers: 17\n",
      "Flight ID: MBA8071P, Departure Airport: KUL, Arrival Airport: PEK, Departure Time: 17:04, Arrival Time: 02:36, Passengers: 16\n",
      "Flight ID: XOY7948U, Departure Airport: ATL, Arrival Airport: LHR, Departure Time: 17:07, Arrival Time: 07:44, Passengers: 16\n",
      "Flight ID: VYU9214I, Departure Airport: ORD, Arrival Airport: DXB, Departure Time: 17:18, Arrival Time: 18:28, Passengers: 15\n",
      "Flight ID: TMV7633W, Departure Airport: CGK, Arrival Airport: DXB, Departure Time: 17:05, Arrival Time: 07:14, Passengers: 15\n",
      "Flight ID: VDC9164W, Departure Airport: FCO, Arrival Airport: LAS, Departure Time: 17:18, Arrival Time: 14:34, Passengers: 15\n",
      "Flight ID: ATT7791R, Departure Airport: AMS, Arrival Airport: DEN, Departure Time: 17:13, Arrival Time: 09:54, Passengers: 15\n",
      "Flight ID: HZT2506M, Departure Airport: IAH, Arrival Airport: AMS, Departure Time: 17:12, Arrival Time: 10:36, Passengers: 14\n",
      "Flight ID: RUM0422W, Departure Airport: MUC, Arrival Airport: MAD, Departure Time: 16:58, Arrival Time: 20:12, Passengers: 14\n",
      "Flight ID: MOO1786A, Departure Airport: MAD, Arrival Airport: FRA, Departure Time: 16:56, Arrival Time: 20:00, Passengers: 13\n",
      "Flight ID: XIL3623J, Departure Airport: PEK, Arrival Airport: LAX, Departure Time: 17:13, Arrival Time: 14:55, Passengers: 13\n",
      "Flight ID: RPG3351U, Departure Airport: HND, Arrival Airport: CAN, Departure Time: 16:59, Arrival Time: 23:13, Passengers: 13\n",
      "Flight ID: DAU2617A, Departure Airport: CGK, Arrival Airport: SFO, Departure Time: 17:23, Arrival Time: 23:34, Passengers: 12\n",
      "Flight ID: WPW9201U, Departure Airport: DFW, Arrival Airport: PEK, Departure Time: 17:21, Arrival Time: 17:33, Passengers: 11\n",
      "Flight ID: DKZ3042O, Departure Airport: MIA, Arrival Airport: SFO, Departure Time: 17:05, Arrival Time: 02:03, Passengers: 11\n",
      "Flight ID: EWH6301Y, Departure Airport: CAN, Arrival Airport: DFW, Departure Time: 17:22, Arrival Time: 21:25, Passengers: 10\n",
      "Flight ID: HUR0974O, Departure Airport: DEN, Arrival Airport: PVG, Departure Time: 17:15, Arrival Time: 16:33, Passengers: 7\n"
     ]
    }
   ],
   "source": [
    "passengerData5 = passengerData1.map(lambda x: ((x[1], x[2], x[3], timeConvert(x[4]), timeConvertPlus(x[4], x[5])), 1)).reduceByKey(lambda x, y: x + y).sortBy(lambda x: x[1], ascending = False)\n",
    "for key, value in passengerData5.collect():\n",
    "    print(f\"Flight ID: {key[0]}, Departure Airport: {key[1]}, Arrival Airport: {key[2]}, Departure Time: {key[3]}, Arrival Time: {key[4]}, Passengers: {value}\")"
   ]
  },
  {
   "cell_type": "markdown",
   "id": "dfef5ae6",
   "metadata": {},
   "source": [
    "### Task 2.3 - Calculate the Flight Distances"
   ]
  },
  {
   "cell_type": "markdown",
   "id": "98e1d374",
   "metadata": {},
   "source": [
    "Calculate the line-of-sight (nautical) miles for each flight and the total travelled by each passenger and thus output the passenger having earned the highest air miles."
   ]
  },
  {
   "cell_type": "markdown",
   "id": "40111daf",
   "metadata": {},
   "source": [
    "#### Define a function to calculate the Haversine formula."
   ]
  },
  {
   "cell_type": "code",
   "execution_count": 51,
   "id": "f1e0711a",
   "metadata": {},
   "outputs": [],
   "source": [
    "def haversine(lat1, long1, lat2, long2):\n",
    "    # Convert the strings to floats\n",
    "    lat1 = float(lat1)\n",
    "    long1 = float(long1)\n",
    "    lat2 = float(lat2)\n",
    "    long2 = float(long2)\n",
    "    \n",
    "    # Convert decimal degrees to radians\n",
    "    lat1, long1, lat2, long2 = map(math.radians, [lat1, long1, lat2, long2])\n",
    "\n",
    "    # Haversine formula\n",
    "    dlat = lat2 - lat1\n",
    "    dlon = long2 - long1\n",
    "    a = math.sin(dlat/2)**2 + math.cos(lat1) * math.cos(lat2) * math.sin(dlon/2)**2 # Half chord length squared\n",
    "    c = 2 * math.asin(math.sqrt(a)) # Angular distance in radians\n",
    "    r = 3440.069517056 # Mean radius of Earth in nautical miles\n",
    "    return c * r\n"
   ]
  },
  {
   "cell_type": "markdown",
   "id": "6735ce95",
   "metadata": {},
   "source": [
    "#### Create an RDD from airportData1 containing the airport and its coordinates."
   ]
  },
  {
   "cell_type": "code",
   "execution_count": 52,
   "id": "3e6ab2f0",
   "metadata": {},
   "outputs": [],
   "source": [
    "airportData4 = airportData1.map(lambda x: [x[1], (x[2], x[3])])\n",
    "#airportData4.collect()"
   ]
  },
  {
   "cell_type": "markdown",
   "id": "f63c9a4b",
   "metadata": {},
   "source": [
    "#### Create an RDD from airportData4, where the key is the airport code."
   ]
  },
  {
   "cell_type": "code",
   "execution_count": 53,
   "id": "fe0c8780",
   "metadata": {},
   "outputs": [],
   "source": [
    "airportData5 = airportData4.keyBy(lambda x: (x[0]))\n",
    "#airportData5.collect()"
   ]
  },
  {
   "cell_type": "markdown",
   "id": "94522f68",
   "metadata": {},
   "source": [
    "#### Create an RDD from passengerData1, with the key as the departure airport code."
   ]
  },
  {
   "cell_type": "code",
   "execution_count": 54,
   "id": "ce321c73",
   "metadata": {},
   "outputs": [],
   "source": [
    "passengerData6 = passengerData1.keyBy(lambda x: (x[2]))\n",
    "#passengerData6.collect()"
   ]
  },
  {
   "cell_type": "markdown",
   "id": "3ddd29a7",
   "metadata": {},
   "source": [
    "#### Create an RDD by joining passengerData6 and airportData5 by their shared key."
   ]
  },
  {
   "cell_type": "code",
   "execution_count": 55,
   "id": "1977944c",
   "metadata": {},
   "outputs": [],
   "source": [
    "passengerData7 = passengerData6.join(airportData5)\n",
    "#passengerData7.collect()"
   ]
  },
  {
   "cell_type": "markdown",
   "id": "2ef3ae69",
   "metadata": {},
   "source": [
    "#### Create an RDD from passengerData7, with the key as the arrival airport code."
   ]
  },
  {
   "cell_type": "code",
   "execution_count": 56,
   "id": "21805859",
   "metadata": {},
   "outputs": [],
   "source": [
    "passengerData8 = passengerData7.keyBy(lambda x: (x[1][0][3]))\n",
    "#passengerData8.collect()"
   ]
  },
  {
   "cell_type": "markdown",
   "id": "3b4d5c47",
   "metadata": {},
   "source": [
    "#### Create an RDD by joining passengerData8 and airportData5 by their shared key."
   ]
  },
  {
   "cell_type": "code",
   "execution_count": 57,
   "id": "ecc7b6e0",
   "metadata": {},
   "outputs": [],
   "source": [
    "passengerData9 = passengerData8.join(airportData5)\n",
    "#passengerData9.collect()"
   ]
  },
  {
   "cell_type": "markdown",
   "id": "dfbf8342",
   "metadata": {},
   "source": [
    "#### Locate the indices required for the upcoming step."
   ]
  },
  {
   "cell_type": "markdown",
   "id": "e969fee0",
   "metadata": {},
   "source": [
    "##### Example of passenger ID."
   ]
  },
  {
   "cell_type": "code",
   "execution_count": 58,
   "id": "15e0bebc",
   "metadata": {},
   "outputs": [
    {
     "name": "stdout",
     "output_type": "stream",
     "text": [
      "POP2875LH3\n"
     ]
    }
   ],
   "source": [
    "print(passengerData9.collect()[0][1][0][1][0][0])"
   ]
  },
  {
   "cell_type": "markdown",
   "id": "892e7bae",
   "metadata": {},
   "source": [
    "##### Example of flight ID."
   ]
  },
  {
   "cell_type": "code",
   "execution_count": 59,
   "id": "7db1184f",
   "metadata": {},
   "outputs": [
    {
     "name": "stdout",
     "output_type": "stream",
     "text": [
      "VYW5940P\n"
     ]
    }
   ],
   "source": [
    "print(passengerData9.collect()[0][1][0][1][0][1])"
   ]
  },
  {
   "cell_type": "markdown",
   "id": "620ac4fe",
   "metadata": {},
   "source": [
    "##### Example of Departure Coordinates. Individual coordinates are [0] and [1] respectively."
   ]
  },
  {
   "cell_type": "code",
   "execution_count": 60,
   "id": "20bbbbed",
   "metadata": {},
   "outputs": [
    {
     "name": "stdout",
     "output_type": "stream",
     "text": [
      "('36.080056', '-115.15225')\n"
     ]
    }
   ],
   "source": [
    "print(passengerData9.collect()[0][1][0][1][1][1])"
   ]
  },
  {
   "cell_type": "markdown",
   "id": "8a818363",
   "metadata": {},
   "source": [
    "##### Example of Arrival Coordinates. Individual coordinates are [0] and [1] respectively."
   ]
  },
  {
   "cell_type": "code",
   "execution_count": 61,
   "id": "69f04cea",
   "metadata": {},
   "outputs": [
    {
     "name": "stdout",
     "output_type": "stream",
     "text": [
      "('1.350189', '103.994433')\n"
     ]
    }
   ],
   "source": [
    "print(passengerData9.collect()[0][1][1][1])"
   ]
  },
  {
   "cell_type": "markdown",
   "id": "618ec772",
   "metadata": {},
   "source": [
    "#### Create an RDD from passengerData9 by mapping the flight ID as the key, and the output of the Haversine formula as the value."
   ]
  },
  {
   "cell_type": "code",
   "execution_count": 62,
   "id": "afa1ae48",
   "metadata": {},
   "outputs": [],
   "source": [
    "passengerData10 = passengerData9.map(lambda x: [x[1][0][1][0][1], haversine(x[1][0][1][1][1][0], x[1][0][1][1][1][1],\n",
    "                                                x[1][1][1][0], x[1][1][1][1])]).reduceByKey(lambda x, y: x + y - y).sortBy(lambda x: x[1], ascending = False)"
   ]
  },
  {
   "cell_type": "markdown",
   "id": "3a6e5b3d",
   "metadata": {},
   "source": [
    "#### Output the amount of air miles per flight as whole miles, in descending order."
   ]
  },
  {
   "cell_type": "code",
   "execution_count": 63,
   "id": "0c82fc7d",
   "metadata": {},
   "outputs": [
    {
     "name": "stdout",
     "output_type": "stream",
     "text": [
      "Flight: YZO4444S, Air Miles: 8436\n",
      "Flight: KJR6646J, Air Miles: 8025\n",
      "Flight: BER7172M, Air Miles: 7694\n",
      "Flight: VYW5940P, Air Miles: 7672\n",
      "Flight: DAU2617A, Air Miles: 7538\n",
      "Flight: FYL5866L, Air Miles: 7288\n",
      "Flight: EWH6301Y, Air Miles: 7007\n",
      "Flight: ULZ8130D, Air Miles: 7007\n",
      "Flight: VYU9214I, Air Miles: 6285\n",
      "Flight: WPW9201U, Air Miles: 6045\n",
      "Flight: HUR0974O, Air Miles: 5821\n",
      "Flight: PME8178S, Air Miles: 5503\n",
      "Flight: XIL3623J, Air Miles: 5420\n",
      "Flight: VDC9164W, Air Miles: 5312\n",
      "Flight: JVY9791G, Air Miles: 4951\n",
      "Flight: QHU1140O, Air Miles: 4718\n",
      "Flight: GMO5938W, Air Miles: 4402\n",
      "Flight: SQU6245R, Air Miles: 4367\n",
      "Flight: HZT2506M, Air Miles: 4346\n",
      "Flight: ATT7791R, Air Miles: 4170\n",
      "Flight: XOY7948U, Air Miles: 3650\n",
      "Flight: TMV7633W, Air Miles: 3535\n",
      "Flight: XXQ4064B, Air Miles: 3341\n",
      "Flight: MBA8071P, Air Miles: 2383\n",
      "Flight: DKZ3042O, Air Miles: 2243\n",
      "Flight: RPG3351U, Air Miles: 1558\n",
      "Flight: WSK1289Z, Air Miles: 1160\n",
      "Flight: SOH3431A, Air Miles: 1042\n",
      "Flight: RUM0422W, Air Miles: 808\n",
      "Flight: MOO1786A, Air Miles: 766\n"
     ]
    }
   ],
   "source": [
    "for key, value in passengerData10.collect():\n",
    "    print(f\"Flight: {key}, Air Miles: {value:.0f}\")"
   ]
  },
  {
   "cell_type": "markdown",
   "id": "50f0bb7b",
   "metadata": {},
   "source": [
    "#### Create an RDD from passengerData9 by mapping the passenger ID as the key, and the output of the Haversine formula as the value."
   ]
  },
  {
   "cell_type": "code",
   "execution_count": 64,
   "id": "09a83c7e",
   "metadata": {},
   "outputs": [],
   "source": [
    "passengerData11 = passengerData9.map(lambda x: [x[1][0][1][0][0], haversine(x[1][0][1][1][1][0], x[1][0][1][1][1][1],\n",
    "                                                x[1][1][1][0], x[1][1][1][1])]).reduceByKey(lambda x, y: x + y).sortBy(lambda x: x[1], ascending = False)"
   ]
  },
  {
   "cell_type": "markdown",
   "id": "bb34da60",
   "metadata": {},
   "source": [
    "#### Output the amount of air miles per passenger as whole miles, in descending order."
   ]
  },
  {
   "cell_type": "code",
   "execution_count": 65,
   "id": "48e264a5",
   "metadata": {},
   "outputs": [
    {
     "name": "stdout",
     "output_type": "stream",
     "text": [
      "Passenger: UES9151GS5, Air Miles: 131879\n",
      "Passenger: BWI0520BG6, Air Miles: 124737\n",
      "Passenger: DAZ3029XA0, Air Miles: 123083\n",
      "Passenger: SPR4484HA6, Air Miles: 122258\n",
      "Passenger: PUD8209OG3, Air Miles: 115813\n",
      "Passenger: WBE6935NU3, Air Miles: 99159\n",
      "Passenger: HCA3158QA6, Air Miles: 96994\n",
      "Passenger: WYU2010YH8, Air Miles: 96736\n",
      "Passenger: JJM4724RF7, Air Miles: 93043\n",
      "Passenger: CKZ3132BR4, Air Miles: 92729\n",
      "Passenger: EZC9678QI6, Air Miles: 89320\n",
      "Passenger: LLZ3798PE3, Air Miles: 84096\n",
      "Passenger: HGO4350KK1, Air Miles: 81796\n",
      "Passenger: POP2875LH3, Air Miles: 81032\n",
      "Passenger: CXN7304ER2, Air Miles: 78744\n",
      "Passenger: YMH6360YP0, Air Miles: 76258\n",
      "Passenger: VZY2993ME1, Air Miles: 73690\n",
      "Passenger: EDV2089LK5, Air Miles: 70431\n",
      "Passenger: JBE2302VO4, Air Miles: 69003\n",
      "Passenger: SJD8775RZ4, Air Miles: 67451\n",
      "Passenger: XFG5747ZT9, Air Miles: 66421\n",
      "Passenger: CDC0302NN5, Air Miles: 63113\n",
      "Passenger: MXU9187YC7, Air Miles: 61040\n",
      "Passenger: WTC9125IE5, Air Miles: 59611\n",
      "Passenger: KKP5277HZ7, Air Miles: 58556\n",
      "Passenger: ONL0812DH1, Air Miles: 54226\n",
      "Passenger: CYJ0225CH1, Air Miles: 54192\n",
      "Passenger: IEG9308EA5, Air Miles: 42016\n",
      "Passenger: PIT2755XC1, Air Miles: 36077\n",
      "Passenger: PAJ3974RK1, Air Miles: 34229\n",
      "Passenger: UMH6360YP0, Air Miles: 3341\n"
     ]
    }
   ],
   "source": [
    "for key, value in passengerData11.collect():\n",
    "    print(f\"Passenger: {key}, Air Miles: {value:.0f}\")"
   ]
  }
 ],
 "metadata": {
  "kernelspec": {
   "display_name": "Python 3 (ipykernel)",
   "language": "python",
   "name": "python3"
  },
  "language_info": {
   "codemirror_mode": {
    "name": "ipython",
    "version": 3
   },
   "file_extension": ".py",
   "mimetype": "text/x-python",
   "name": "python",
   "nbconvert_exporter": "python",
   "pygments_lexer": "ipython3",
   "version": "3.10.6"
  },
  "vscode": {
   "interpreter": {
    "hash": "e9d94ef6a3c343a7cd3790272749ba76e8186be3a092397392f753e5eb025728"
   }
  }
 },
 "nbformat": 4,
 "nbformat_minor": 5
}
